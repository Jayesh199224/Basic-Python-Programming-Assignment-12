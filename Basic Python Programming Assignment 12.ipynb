{
 "cells": [
  {
   "cell_type": "code",
   "execution_count": null,
   "metadata": {},
   "outputs": [],
   "source": [
    "\n",
    "\n",
    "\n",
    "\n"
   ]
  },
  {
   "cell_type": "code",
   "execution_count": 2,
   "metadata": {},
   "outputs": [
    {
     "name": "stdout",
     "output_type": "stream",
     "text": [
      "Original Dictionary =  {'a': [1, 5, 8], 'b': [5, 5, 4, 5], 'c': [1, 2, 5]}\n",
      "The Unique values are =  [1, 2, 4, 5, 8]\n"
     ]
    }
   ],
   "source": [
    "#1.\tWrite a Python program to Extract Unique values dictionary values?\n",
    "\n",
    "dic = {'a':[1,5,8],\n",
    "      'b':[5,5,4,5],\n",
    "      'c':[1,2,5]}\n",
    "\n",
    "print('Original Dictionary = ',dic)\n",
    "\n",
    "unique_values = list(sorted({ele for val in dic.values() for ele in val}))\n",
    "\n",
    "print('The Unique values are = ',unique_values)"
   ]
  },
  {
   "cell_type": "code",
   "execution_count": 7,
   "metadata": {},
   "outputs": [
    {
     "name": "stdout",
     "output_type": "stream",
     "text": [
      "Sum of all the items in the dictionary is :  140\n"
     ]
    }
   ],
   "source": [
    "#2.\tWrite a Python program to find the sum of all items in a dictionary?\n",
    "def item_sum(dic):\n",
    "    \n",
    "    sum = 0\n",
    "    for i in dic:\n",
    "        sum = sum + dic[i]\n",
    "        \n",
    "    return sum\n",
    "\n",
    "dic = {'one':11, 'two':65, 'three':64}\n",
    "print ('Sum of all the items in the dictionary is : ',item_sum(dic))"
   ]
  },
  {
   "cell_type": "code",
   "execution_count": 10,
   "metadata": {},
   "outputs": [
    {
     "name": "stdout",
     "output_type": "stream",
     "text": [
      "{'one': 11, 'two': 65, 'three': 64, 'a': [1, 5, 8], 'b': [5, 5, 4, 5], 'c': [1, 2, 5]}\n"
     ]
    }
   ],
   "source": [
    "#3.\tWrite a Python program to Merging two Dictionaries?\n",
    "dic1 = {'one':11, 'two':65, 'three':64}\n",
    "dic2 =  {'a':[1,5,8],\n",
    "      'b':[5,5,4,5],\n",
    "      'c':[1,2,5]}\n",
    "\n",
    "dic1.update(dic2)\n",
    "\n",
    "print (dic1)"
   ]
  },
  {
   "cell_type": "code",
   "execution_count": 23,
   "metadata": {},
   "outputs": [
    {
     "name": "stdout",
     "output_type": "stream",
     "text": [
      "original dictionary :  {'a': [1, 2, 3, 4], 'b': ['a', 'b', 'c', 'd']}\n"
     ]
    },
    {
     "ename": "TypeError",
     "evalue": "'dict' object is not callable",
     "output_type": "error",
     "traceback": [
      "\u001b[1;31m---------------------------------------------------------------------------\u001b[0m",
      "\u001b[1;31mTypeError\u001b[0m                                 Traceback (most recent call last)",
      "\u001b[1;32m<ipython-input-23-e16d20ae10a6>\u001b[0m in \u001b[0;36m<module>\u001b[1;34m\u001b[0m\n\u001b[0;32m      5\u001b[0m \u001b[0mprint\u001b[0m\u001b[1;33m(\u001b[0m\u001b[1;34m'original dictionary : '\u001b[0m\u001b[1;33m,\u001b[0m\u001b[0mdic\u001b[0m\u001b[1;33m)\u001b[0m\u001b[1;33m\u001b[0m\u001b[1;33m\u001b[0m\u001b[0m\n\u001b[0;32m      6\u001b[0m \u001b[1;33m\u001b[0m\u001b[0m\n\u001b[1;32m----> 7\u001b[1;33m \u001b[0mnew_dic\u001b[0m \u001b[1;33m=\u001b[0m \u001b[0mdict\u001b[0m\u001b[1;33m(\u001b[0m\u001b[0mzip\u001b[0m\u001b[1;33m(\u001b[0m\u001b[0mdic\u001b[0m\u001b[1;33m[\u001b[0m\u001b[1;34m'b'\u001b[0m\u001b[1;33m]\u001b[0m\u001b[1;33m,\u001b[0m\u001b[0mdic\u001b[0m\u001b[1;33m[\u001b[0m\u001b[1;34m'a'\u001b[0m\u001b[1;33m]\u001b[0m\u001b[1;33m)\u001b[0m\u001b[1;33m)\u001b[0m\u001b[1;33m\u001b[0m\u001b[1;33m\u001b[0m\u001b[0m\n\u001b[0m\u001b[0;32m      8\u001b[0m \u001b[1;33m\u001b[0m\u001b[0m\n\u001b[0;32m      9\u001b[0m \u001b[0mprint\u001b[0m \u001b[1;33m(\u001b[0m\u001b[1;34m'flatenned dictionary is : '\u001b[0m\u001b[1;33m,\u001b[0m\u001b[1;33m(\u001b[0m\u001b[0mnew_dic\u001b[0m\u001b[1;33m)\u001b[0m \u001b[1;33m)\u001b[0m\u001b[1;33m\u001b[0m\u001b[1;33m\u001b[0m\u001b[0m\n",
      "\u001b[1;31mTypeError\u001b[0m: 'dict' object is not callable"
     ]
    }
   ],
   "source": [
    "#4.\tWrite a Python program to convert key-values list to flat dictionary?\n",
    "from itertools import product\n",
    "dic = {'a':[1,2,3,4],'b':['a','b','c','d']}\n",
    "\n",
    "print('original dictionary : ',dic)\n",
    "\n",
    "new_dic = dict(zip(dic['b'],dic['a']))\n",
    "\n",
    "print ('flatenned dictionary is : ',(new_dic) )\n",
    "\n",
    "\n"
   ]
  },
  {
   "cell_type": "code",
   "execution_count": 3,
   "metadata": {},
   "outputs": [
    {
     "name": "stdout",
     "output_type": "stream",
     "text": [
      "The dictionary is : \n",
      "OrderedDict([('Jayesh', '200'), ('Shubham', '300'), ('Kabir', '400')])\n",
      "New dictionary is : \n",
      "OrderedDict([('Ram', '100'), ('Jayesh', '200'), ('Shubham', '300'), ('Kabir', '400')])\n"
     ]
    }
   ],
   "source": [
    "#5.\tWrite a Python program to insertion at the beginning in OrderedDict?\n",
    "from collections import OrderedDict\n",
    "\n",
    "dic = OrderedDict([('Jayesh','200'),('Shubham','300'),('Kabir','400')])\n",
    "print('The dictionary is : ')\n",
    "print(dic)\n",
    "\n",
    "dic.update({'Ram':'100'})\n",
    "\n",
    "dic.move_to_end('Ram',last = False)\n",
    "print('New dictionary is : ')\n",
    "print (dic)"
   ]
  },
  {
   "cell_type": "code",
   "execution_count": 7,
   "metadata": {},
   "outputs": [
    {
     "name": "stdout",
     "output_type": "stream",
     "text": [
      "The string is  Hi THere how are you\n",
      "The input pattern is  li\n",
      "The order of pattern is incorrect.\n"
     ]
    }
   ],
   "source": [
    "#6.\tWrite a Python program to check order of character in string using OrderedDict()?\n",
    "def check_char(inputt,pattern):\n",
    "    dic = OrderedDict.fromkeys(inputt)\n",
    "    \n",
    "    patter_lenght = 0\n",
    "    \n",
    "    for key,value in dic.items():\n",
    "        if (key == pattern[patter_lenght]):\n",
    "            patter_lenght = patter_lenght + 1\n",
    "        \n",
    "        if (patter_lenght == (len(pattern))):\n",
    "            \n",
    "            return 'The order of pattern is correct.'\n",
    "        \n",
    "    return 'The order of pattern is incorrect.'\n",
    "\n",
    "inputt = 'Hi THere how are you'\n",
    "\n",
    "pattern = 'li'\n",
    "\n",
    "print ('The string is ',inputt)\n",
    "\n",
    "print('The input pattern is ',pattern)\n",
    "\n",
    "print(check_char(inputt,pattern))\n",
    "    \n",
    "        "
   ]
  },
  {
   "cell_type": "code",
   "execution_count": 9,
   "metadata": {},
   "outputs": [
    {
     "name": "stdout",
     "output_type": "stream",
     "text": [
      "[1, 2, 3]\n",
      "['jay', 'kabir', 'parab']\n"
     ]
    }
   ],
   "source": [
    "#7.\tWrite a Python program to sort Python Dictionaries by Key or Value?\n",
    "dic = {1 : 'jay',2 : 'parab',3 : 'kabir'}\n",
    "\n",
    "print(sorted(dic.keys()))\n",
    "\n",
    "print(sorted(dic.values()))"
   ]
  },
  {
   "cell_type": "code",
   "execution_count": null,
   "metadata": {},
   "outputs": [],
   "source": []
  }
 ],
 "metadata": {
  "kernelspec": {
   "display_name": "Python 3",
   "language": "python",
   "name": "python3"
  },
  "language_info": {
   "codemirror_mode": {
    "name": "ipython",
    "version": 3
   },
   "file_extension": ".py",
   "mimetype": "text/x-python",
   "name": "python",
   "nbconvert_exporter": "python",
   "pygments_lexer": "ipython3",
   "version": "3.8.5"
  }
 },
 "nbformat": 4,
 "nbformat_minor": 4
}
